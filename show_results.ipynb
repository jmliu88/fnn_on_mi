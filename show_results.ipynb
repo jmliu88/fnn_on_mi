{
 "cells": [
  {
   "cell_type": "markdown",
   "metadata": {},
   "source": [
    "Here comes the description of the datasets\n",
    "<img src=\"https://raw.githubusercontent.com/wooden-knight/fnn_on_mi/master/datasets.jpg\">"
   ]
  },
  {
   "cell_type": "markdown",
   "metadata": {},
   "source": [
    "The result table comes from the baseline paper, where miFV is the method we want to beat.\n",
    "<img src=\"https://raw.githubusercontent.com/wooden-knight/fnn_on_mi/master/sota.jpg\">"
   ]
  },
  {
   "cell_type": "markdown",
   "metadata": {},
   "source": [
    "| 0                                                  | musk1norm | tiger  | elephant | musk2norm | fox    |\n",
    "|----------------------------------------------------|-----------|--------|----------|-----------|--------|\n",
    "| layer_2_hidden_100_dropout_0.200000_adam           | 0.84      | 0.7905 | 0.85     | 0.803     | 0.5305 |\n",
    "| hidden_200                                         | 0.874444  | 0.7995 | 0.8525   | 0.794     | 0.5125 |\n",
    "| hidden_10                                          | 0.836667  | 0.7965 | 0.8455   | 0.801     | 0.502  |\n",
    "| hidden_100_dropout_0.200000_rmsprop_stand_all_feat | 0.85      | 0.803  | 0.845    | 0.826     | 0.537  |\n",
    "| hidden_100_dropout_0.500000_adam                   | 0.832222  | 0.7835 | 0.85     | 0.822     | 0.525  |\n",
    "| hidden_100_dropout_0.200000_rmsprop                | 0.857778  | 0.7915 | 0.851    | 0.813     | 0.5325 |\n",
    "| hidden_100_dropout_0.500000_momentom               | 0.674444  | 0.7225 | 0.7335   | 0.802     | 0.497  |\n",
    "| hidden_100                                         | 0.848889  | 0.8025 | 0.8545   | 0.812     | 0.5255 |\n",
    "| layer_2_hidden_100_dropout_0.500000_adam           | 0.797778  | 0.7685 | 0.8375   | 0.794     | 0.527  |\n",
    "| hidden_100_dropout_0.0_rmsprop_stand_all_feat      | 0.874444  | 0.8065 | 0.8425   | 0.802     | 0.516  |"
   ]
  },
  {
   "cell_type": "markdown",
   "metadata": {},
   "source": [
    "The explaination of the previous models are followed:\n",
    "\n",
    "|                                          |explain |\n",
    "|------------------------------------------|------------------|\n",
    "|layer_2_hidden_100_dropout_0.200000_adam | two layers with 100 hidden nodes each, dropout rate set to be 0.2, adam optimizer |\n",
    "|hidden_200| one layer with 200 nodes, without dropout, adam|\n",
    "|hidden_10| one layer with 10 nodes, without dropout, adam|\n",
    "|hidden_100_dropout_0.500000_adam| one layer with 200 nodes, dropout rate 0.5, adam|\n",
    "|hidden_100_dropout_0.500000_nesterov|one layer with 200 nodes, dropout rate 0.5, nesterov|\n",
    "|hidden_100| one layer with 100 nodes, without dropout, adam|\n",
    "|layer_2_hidden_100_dropout_0.500000_adam|two layers with 100 hidden nodes each, dropout rate 0.5, adam optimizer |"
   ]
  }
 ],
 "metadata": {
  "kernelspec": {
   "display_name": "Python 2",
   "language": "python",
   "name": "python2"
  },
  "language_info": {
   "codemirror_mode": {
    "name": "ipython",
    "version": 2
   },
   "file_extension": ".py",
   "mimetype": "text/x-python",
   "name": "python",
   "nbconvert_exporter": "python",
   "pygments_lexer": "ipython2",
   "version": "2.7.11"
  }
 },
 "nbformat": 4,
 "nbformat_minor": 0
}
